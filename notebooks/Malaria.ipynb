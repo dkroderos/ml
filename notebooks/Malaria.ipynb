{
 "cells": [
  {
   "cell_type": "markdown",
   "id": "4443fbe5-47a0-4500-bf7b-5115711b9e8c",
   "metadata": {},
   "source": [
    "### Import necessary libraries"
   ]
  },
  {
   "cell_type": "code",
   "execution_count": null,
   "id": "d7448748-9444-4bac-9bb0-63641a823ea9",
   "metadata": {},
   "outputs": [],
   "source": [
    "import tensorflow as tf\n",
    "import numpy\n",
    "import matplotlib.pyplot as plt\n",
    "import tensorflow_datasets as tfds\n",
    "from tensorflow import keras\n",
    "from tensorflow.keras.layers import Conv2D, MaxPool2D, Dense, Flatten, InputLayer, BatchNormalization\n",
    "from tensorflow.keras.losses import BinaryCrossentropy\n",
    "from tensorflow.keras.optimizers import Adam"
   ]
  },
  {
   "cell_type": "markdown",
   "id": "150b8e1f-cac1-408a-a203-21ad5e7aa594",
   "metadata": {},
   "source": [
    "### Check if GPU is available"
   ]
  },
  {
   "cell_type": "code",
   "execution_count": null,
   "id": "2b24fb0a-f03a-4358-930a-5f55eb8b7b69",
   "metadata": {},
   "outputs": [],
   "source": [
    "print('Number of GPUs available: ', len(tf.config.experimental.list_physical_devices('GPU')))\n",
    "print('Test is built with CUDA: ', tf.test.is_built_with_cuda())"
   ]
  },
  {
   "cell_type": "markdown",
   "id": "7f755eb6-e9b8-4887-8e2f-3277c958c7c7",
   "metadata": {},
   "source": [
    "### Prepare the dataset"
   ]
  },
  {
   "cell_type": "code",
   "execution_count": null,
   "id": "288fd319-532b-481e-8077-939ef6daa9ea",
   "metadata": {},
   "outputs": [],
   "source": [
    "dataset, dataset_info = tfds.load('malaria', with_info=True, as_supervised=True, shuffle_files=True, split=['train'])"
   ]
  },
  {
   "cell_type": "code",
   "execution_count": null,
   "id": "735927a2-6e56-4393-b293-f675aae4a5ae",
   "metadata": {},
   "outputs": [],
   "source": [
    "def split(dataset, TRAIN_RATIO, VAL_RATIO, TEST_RATIO):\n",
    "    DATASET_SIZE = len(dataset)\n",
    "\n",
    "    train_dataset = dataset.take(int(TRAIN_RATIO*DATASET_SIZE))\n",
    "\n",
    "    val_test_dataset = dataset.skip(int(TRAIN_RATIO*DATASET_SIZE))\n",
    "    val_dataset = val_test_dataset.take(int(VAL_RATIO*DATASET_SIZE))\n",
    "    test_dataset = val_test_dataset.skip(int(TEST_RATIO*DATASET_SIZE))\n",
    "\n",
    "    return train_dataset, val_dataset, test_dataset\n",
    "\n",
    "TRAIN_RATIO = 0.8\n",
    "VAL_RATIO = 0.1\n",
    "TEST_RATIO = 0.1\n",
    "\n",
    "train_dataset, val_dataset, test_dataset = split(dataset[0], TRAIN_RATIO, VAL_RATIO, TEST_RATIO)\n",
    "\n",
    "# print(list(train_dataset.take(1).as_numpy_iterator()),\n",
    "#       list(val_dataset.take(1).as_numpy_iterator()),\n",
    "#       list(test_dataset.take(1).as_numpy_iterator()))"
   ]
  },
  {
   "cell_type": "code",
   "execution_count": null,
   "id": "bdeb5dd1-497b-4402-ac53-5c3021ea6f36",
   "metadata": {},
   "outputs": [],
   "source": [
    "for i, (image, label) in enumerate(train_dataset.take(16)):\n",
    "    ax = plt.subplot(4, 4, i + 1)\n",
    "    plt.imshow(image)\n",
    "    plt.title(dataset_info.features['label'].int2str(label))\n",
    "    plt.axis('off')"
   ]
  },
  {
   "cell_type": "markdown",
   "id": "a019fff7-bdfb-49bc-938a-b9075fd842e5",
   "metadata": {},
   "source": [
    "### Resize the image"
   ]
  },
  {
   "cell_type": "code",
   "execution_count": null,
   "id": "8f1ce4cc-5f87-4e3c-98ed-1163b719c653",
   "metadata": {},
   "outputs": [],
   "source": [
    "IM_SIZE = 224\n",
    "\n",
    "def resize_rescale(image, label):\n",
    "    return tf.image.resize(image, (IM_SIZE, IM_SIZE)) / 255.0, label\n",
    "\n",
    "train_dataset = train_dataset.map(resize_rescale)\n",
    "val_dataset = val_dataset.map(resize_rescale)\n",
    "test_dataset = test_dataset.map(resize_rescale)\n",
    "\n",
    "# for image, label in train_dataset.take(1):\n",
    "#     print(image, label)"
   ]
  },
  {
   "cell_type": "markdown",
   "id": "32ed20a6-187c-46bf-9616-09de5369bd2b",
   "metadata": {},
   "source": [
    "### Batch dataset"
   ]
  },
  {
   "cell_type": "code",
   "execution_count": null,
   "id": "2ed814a6-1ddd-4e42-b247-c683c4329cd7",
   "metadata": {},
   "outputs": [],
   "source": [
    "BATCH_SIZE = 32\n",
    "\n",
    "train_dataset = train_dataset.shuffle(buffer_size=8, reshuffle_each_iteration=True).batch(BATCH_SIZE).prefetch(tf.data.AUTOTUNE)\n",
    "val_dataset = val_dataset.shuffle(buffer_size=8, reshuffle_each_iteration=True).batch(BATCH_SIZE).prefetch(tf.data.AUTOTUNE)"
   ]
  },
  {
   "cell_type": "markdown",
   "id": "98f7e95c-dc1a-4692-aed5-db3103b57924",
   "metadata": {},
   "source": [
    "### Train the model"
   ]
  },
  {
   "cell_type": "code",
   "execution_count": null,
   "id": "5bef74f6-2df8-48a6-b253-a336cec26fff",
   "metadata": {},
   "outputs": [],
   "source": [
    "model = tf.keras.Sequential([\n",
    "    InputLayer(shape=(IM_SIZE, IM_SIZE, 3)),\n",
    "    Conv2D(filters=6, kernel_size=3, strides=1, padding='valid', activation='relu'),\n",
    "    BatchNormalization(),\n",
    "    MaxPool2D(pool_size=2, strides=2),\n",
    "\n",
    "    Conv2D(filters=16, kernel_size=3, strides=1, padding='valid', activation='relu'),\n",
    "    BatchNormalization(),\n",
    "    MaxPool2D(pool_size=2, strides=2),\n",
    "\n",
    "    Flatten(),\n",
    "\n",
    "    Dense(100, activation='relu'),\n",
    "    BatchNormalization(),\n",
    "\n",
    "    Dense(10, activation='relu'),\n",
    "    BatchNormalization(),\n",
    "\n",
    "    Dense(1, activation='sigmoid')\n",
    "])\n",
    "\n",
    "model.summary()"
   ]
  },
  {
   "cell_type": "code",
   "execution_count": null,
   "id": "3e1fa853-0c72-4d10-bf4d-59a0c4aed30b",
   "metadata": {},
   "outputs": [],
   "source": [
    "model.compile(\n",
    "    optimizer=Adam(learning_rate=0.01),\n",
    "    loss=BinaryCrossentropy(),\n",
    "    metrics=['accuracy']\n",
    ")"
   ]
  },
  {
   "cell_type": "code",
   "execution_count": null,
   "id": "c906b0fa-2a12-40a2-871e-c5a9c5c57d95",
   "metadata": {},
   "outputs": [],
   "source": [
    "history = model.fit(train_dataset, validation_data=val_dataset, epochs=20, verbose=1)\n",
    "\n",
    "model.save('../models/Malaria.keras')"
   ]
  },
  {
   "cell_type": "code",
   "execution_count": null,
   "id": "483d500d-7cfd-4e6f-958d-5fdaadac6b3f",
   "metadata": {},
   "outputs": [],
   "source": [
    "model.save_weights('../models/Malaria.weights.h5')"
   ]
  },
  {
   "cell_type": "markdown",
   "id": "13dcea00-d705-4913-bca9-2e8b4f58a103",
   "metadata": {},
   "source": [
    "### Plot the history"
   ]
  },
  {
   "cell_type": "code",
   "execution_count": null,
   "id": "d8478102-e8ff-4299-8cf1-98e162f6168d",
   "metadata": {},
   "outputs": [],
   "source": [
    "plt.plot(history.history['loss'])\n",
    "plt.plot(history.history['val_loss'])\n",
    "plt.title('Model loss')\n",
    "plt.ylabel('loss')\n",
    "plt.xlabel('epoch')\n",
    "plt.legend(['train_loss', 'val_loss'])\n",
    "plt.show()\n",
    "\n",
    "plt.plot(history.history['accuracy'])\n",
    "plt.plot(history.history['val_accuracy'])\n",
    "plt.title('Model Accuracy')\n",
    "plt.ylabel('Accuracy')\n",
    "plt.xlabel('Epoch')\n",
    "plt.legend(['train_accuracy', 'val_accuracy'])\n",
    "plt.show()"
   ]
  },
  {
   "cell_type": "markdown",
   "id": "12d793df-38b2-4674-8e6a-c1c4fb73d371",
   "metadata": {},
   "source": [
    "### Load the model"
   ]
  },
  {
   "cell_type": "code",
   "execution_count": null,
   "id": "bdc21c0a-ca0a-4e13-b5d3-5b0babfa7736",
   "metadata": {},
   "outputs": [],
   "source": [
    "loaded_model = tf.keras.models.load_model('../models/Malaria.keras')\n",
    "loaded_model.summary()"
   ]
  },
  {
   "cell_type": "code",
   "execution_count": null,
   "id": "a09647a2-5321-4ea6-909a-1bc4bb9a44bb",
   "metadata": {},
   "outputs": [],
   "source": [
    "model.load_weights('../models/Malaria.weights.h5')"
   ]
  },
  {
   "cell_type": "markdown",
   "id": "a5af3cf2-891b-4ad0-bcbd-2f100e81a768",
   "metadata": {},
   "source": [
    "### Prepare the evaluation"
   ]
  },
  {
   "cell_type": "code",
   "execution_count": null,
   "id": "b9b5edfa-c0f3-481d-a881-957994c15061",
   "metadata": {},
   "outputs": [],
   "source": [
    "def parasite_or_not(x):\n",
    "    if(x < 0.5):\n",
    "        return str('P')\n",
    "    else:\n",
    "        return str('U')"
   ]
  },
  {
   "cell_type": "code",
   "execution_count": null,
   "id": "1cddb000-e410-4a6c-9866-7b3dcc454d8b",
   "metadata": {},
   "outputs": [],
   "source": [
    "test_dataset = test_dataset.batch(1)"
   ]
  },
  {
   "cell_type": "markdown",
   "id": "4e75c2c2-741a-4d32-a541-65af17e3f200",
   "metadata": {},
   "source": [
    "### Evaluate the model"
   ]
  },
  {
   "cell_type": "code",
   "execution_count": null,
   "id": "0fec3aa0-325e-4b22-b33f-0d93d94f2c87",
   "metadata": {},
   "outputs": [],
   "source": [
    "model.evaluate(test_dataset)"
   ]
  },
  {
   "cell_type": "code",
   "execution_count": null,
   "id": "e356dab0-d950-4f06-aa32-653e3477e532",
   "metadata": {},
   "outputs": [],
   "source": [
    "parasite_or_not(model.predict(test_dataset.take(1))[0][0])\n",
    "model.predict(test_dataset.take(1))[0][0]"
   ]
  },
  {
   "cell_type": "code",
   "execution_count": null,
   "id": "9a70906c-d4fa-41bb-8df2-4cccaface47c",
   "metadata": {},
   "outputs": [],
   "source": [
    "for i, (image, label) in enumerate(test_dataset.take(9)):\n",
    "    ax = plt.subplot(3, 3, i + 1)\n",
    "    plt.imshow(image[0])\n",
    "    plt.title(str(parasite_or_not(label.numpy()[0])) + ': ' + str(parasite_or_not(model.predict(image)[0][0])))\n",
    "    plt.axis('off')"
   ]
  },
  {
   "cell_type": "markdown",
   "id": "2a1fbd31-10ac-4c4c-a650-1e800813d0e9",
   "metadata": {},
   "source": [
    "### Evaluate the LOADED model"
   ]
  },
  {
   "cell_type": "code",
   "execution_count": null,
   "id": "4d40ab10-875a-4349-ad23-39fac115d49c",
   "metadata": {},
   "outputs": [],
   "source": [
    "loaded_model.evaluate(test_dataset)"
   ]
  },
  {
   "cell_type": "code",
   "execution_count": null,
   "id": "22b142ec-343f-48c1-927f-b86da4bf66e9",
   "metadata": {},
   "outputs": [],
   "source": [
    "parasite_or_not(loaded_model.predict(test_dataset.take(1))[0][0])\n",
    "loaded_model.predict(test_dataset.take(1))[0][0]"
   ]
  },
  {
   "cell_type": "code",
   "execution_count": null,
   "id": "49c669cc-0b3e-4bc2-8874-f446a6557031",
   "metadata": {},
   "outputs": [],
   "source": [
    "for i, (image, label) in enumerate(test_dataset.take(9)):\n",
    "    ax = plt.subplot(3, 3, i + 1)\n",
    "    plt.imshow(image[0])\n",
    "    plt.title(str(parasite_or_not(label.numpy()[0])) + \": \" + str(parasite_or_not(loaded_model.predict(image)[0][0])))\n",
    "    plt.axis('off')"
   ]
  }
 ],
 "metadata": {
  "language_info": {
   "name": "python"
  }
 },
 "nbformat": 4,
 "nbformat_minor": 5
}
