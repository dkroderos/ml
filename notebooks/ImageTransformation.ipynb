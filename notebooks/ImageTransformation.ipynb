{
 "cells": [
  {
   "cell_type": "code",
   "execution_count": null,
   "id": "82c63bbb-b549-4653-96ed-e36cecb8dd90",
   "metadata": {},
   "outputs": [],
   "source": [
    "import cv2\n",
    "import numpy as np\n",
    "import matplotlib.pyplot as plt"
   ]
  },
  {
   "cell_type": "code",
   "execution_count": null,
   "id": "ba9a5749-7ce9-4359-a4db-c512f14def2c",
   "metadata": {},
   "outputs": [],
   "source": [
    "# Create a blank image for demonstration (200x200 pixels with a white background)\n",
    "image = np.ones((200, 200, 3), dtype=np.uint8) * 255"
   ]
  },
  {
   "cell_type": "code",
   "execution_count": null,
   "id": "abe2fc5f-b485-420a-b29a-300f1ff7f840",
   "metadata": {},
   "outputs": [],
   "source": [
    "# Draw a red point at the original coordinates (50, 50)\n",
    "cv2.circle(image, (50, 50), 5, (0, 0, 255), -1)\n",
    "\n",
    "# Display the image\n",
    "plt.imshow(image)\n",
    "plt.axis('off')  # Hide axis\n",
    "plt.show()"
   ]
  },
  {
   "cell_type": "code",
   "execution_count": null,
   "id": "ee482336-3993-46b4-a4f7-6975f915cf89",
   "metadata": {},
   "outputs": [],
   "source": [
    "# -------------------------\n",
    "# 1. Translation Example\n",
    "# -------------------------\n",
    "# Translation Matrix: move 50 pixels right and 30 pixels down\n",
    "tx, ty = 50, 30\n",
    "translation_matrix = np.float32([[1, 0, tx], [0, 1, ty]])"
   ]
  },
  {
   "cell_type": "code",
   "execution_count": null,
   "id": "311ea081-e7e3-4e8d-b219-1c869c2642a6",
   "metadata": {},
   "outputs": [],
   "source": [
    "# Apply translation\n",
    "translated_image = cv2.warpAffine(image, translation_matrix, (image.shape[1], image.shape[0]))\n",
    "# Draw a blue point at the new translated coordinates\n",
    "cv2.circle(translated_image, (50 + tx, 50 + ty), 5, (255, 0, 0), -1)\n",
    "\n",
    "# Display the image\n",
    "plt.imshow(translated_image)\n",
    "plt.axis('off')  # Hide axis\n",
    "plt.show()"
   ]
  },
  {
   "cell_type": "code",
   "execution_count": null,
   "id": "b138eff3-a636-4672-b7b3-938aec9572b5",
   "metadata": {},
   "outputs": [],
   "source": [
    "# -------------------------\n",
    "# 2. Rotation Example\n",
    "# -------------------------\n",
    "# Rotation Matrix: Rotate 45 degrees around the center of the image\n",
    "center = (image.shape[1] // 2, image.shape[0] // 2)\n",
    "angle = 45\n",
    "rotation_matrix = cv2.getRotationMatrix2D(center, angle, 1.0)\n",
    "# Apply rotation\n",
    "rotated_image = cv2.warpAffine(image, rotation_matrix, (image.shape[1], image.shape[0]))\n",
    "# Draw a green point at approximately the rotated coordinates (calculations done earlier)\n",
    "cv2.circle(rotated_image, (center[0] - 3, center[1] + 2), 5, (0, 255, 0), -1)\n",
    "\n",
    "# Display the image\n",
    "plt.imshow(rotated_image)\n",
    "plt.axis('off')  # Hide axis\n",
    "plt.show()"
   ]
  },
  {
   "cell_type": "code",
   "execution_count": null,
   "id": "195258c0-3226-46a8-b25c-9c8e134b3dd1",
   "metadata": {},
   "outputs": [],
   "source": []
  },
  {
   "cell_type": "code",
   "execution_count": null,
   "id": "0af35c15-2ed3-44e3-b1c0-d420690e8c8e",
   "metadata": {},
   "outputs": [],
   "source": []
  }
 ],
 "metadata": {
  "kernelspec": {
   "display_name": "Python 3 (ipykernel)",
   "language": "python",
   "name": "python3"
  },
  "language_info": {
   "codemirror_mode": {
    "name": "ipython",
    "version": 3
   },
   "file_extension": ".py",
   "mimetype": "text/x-python",
   "name": "python",
   "nbconvert_exporter": "python",
   "pygments_lexer": "ipython3",
   "version": "3.10.14"
  }
 },
 "nbformat": 4,
 "nbformat_minor": 5
}
