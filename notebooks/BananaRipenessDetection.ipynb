{
 "cells": [
  {
   "cell_type": "code",
   "execution_count": null,
   "id": "1d811080-b925-42d0-846e-eafee7a1486e",
   "metadata": {},
   "outputs": [],
   "source": [
    "import cv2\n",
    "import matplotlib.pyplot as plt\n",
    "import numpy as np\n",
    "import glob"
   ]
  },
  {
   "cell_type": "code",
   "execution_count": null,
   "id": "d5b3df13-4f99-48cf-93c5-a8e2e88e9c1d",
   "metadata": {},
   "outputs": [],
   "source": [
    "folder_path = '../data/banana/'\n",
    "image_files = glob.glob(folder_path + '*.jpg')"
   ]
  },
  {
   "cell_type": "code",
   "execution_count": null,
   "id": "2f86c1ae-5c0d-4514-9633-df13d1b004b2",
   "metadata": {},
   "outputs": [],
   "source": [
    "fig, axes = plt.subplots(2, 4, figsize=(16, 8))\n",
    "\n",
    "for idx, file in enumerate(image_files[:8]):\n",
    "    image = cv2.imread(file)\n",
    "    if image is not None:\n",
    "        image_rgb = cv2.cvtColor(image, cv2.COLOR_BGR2RGB)\n",
    "        ax = axes[idx // 4, idx % 4]\n",
    "        ax.imshow(image_rgb)\n",
    "        ax.axis('off')\n",
    "        ax.set_title(f'Image {idx+1}')"
   ]
  },
  {
   "cell_type": "code",
   "execution_count": null,
   "id": "3c3bc26a-2d0a-43cb-a325-9878525f4b78",
   "metadata": {},
   "outputs": [],
   "source": [
    "fig, axes = plt.subplots(len(image_files), 2, figsize=(10, len(image_files)*5))\n",
    "\n",
    "for idx, file in enumerate(image_files):\n",
    "    image = cv2.imread(file)\n",
    "    \n",
    "    if image is not None:\n",
    "        blur = cv2.GaussianBlur(image, (5, 5), 0)\n",
    "        \n",
    "        image_rgb = cv2.cvtColor(image, cv2.COLOR_BGR2RGB)\n",
    "        blur_rgb = cv2.cvtColor(blur, cv2.COLOR_BGR2RGB)\n",
    "        \n",
    "        axes[idx, 0].imshow(image_rgb)\n",
    "        axes[idx, 0].axis('off')\n",
    "        axes[idx, 0].set_title('Original')\n",
    "        \n",
    "        axes[idx, 1].imshow(blur_rgb, cmap='gray')\n",
    "        axes[idx, 1].axis('off')\n",
    "        axes[idx, 1].set_title('Gaussian Blur')\n",
    "\n",
    "plt.tight_layout()\n",
    "plt.show()"
   ]
  },
  {
   "cell_type": "code",
   "execution_count": null,
   "id": "54d0079e-c497-4270-b0f6-a13ddb76bfc6",
   "metadata": {},
   "outputs": [],
   "source": [
    "fig, axes = plt.subplots(len(image_files), 2, figsize=(10, len(image_files)*5))\n",
    "\n",
    "kernel_sharpening = np.array([[-1, -1, -1],\n",
    "                              [-1, 9, -1],\n",
    "                              [-1, -1, -1]])\n",
    "\n",
    "for idx, file in enumerate(image_files):\n",
    "    image = cv2.imread(file)\n",
    "    \n",
    "    if image is not None:\n",
    "        sharpened = cv2.filter2D(image, -1, kernel_sharpening)\n",
    "        \n",
    "        image_rgb = cv2.cvtColor(image, cv2.COLOR_BGR2RGB)\n",
    "        sharpened_rgb = cv2.cvtColor(sharpened, cv2.COLOR_BGR2RGB)\n",
    "        \n",
    "        axes[idx, 0].imshow(image_rgb)\n",
    "        axes[idx, 0].axis('off')\n",
    "        axes[idx, 0].set_title('Original')\n",
    "        \n",
    "        axes[idx, 1].imshow(sharpened_rgb, cmap='gray')\n",
    "        axes[idx, 1].axis('off')\n",
    "        axes[idx, 1].set_title('Sharpened')\n",
    "\n",
    "plt.tight_layout()\n",
    "plt.show()"
   ]
  },
  {
   "cell_type": "code",
   "execution_count": null,
   "id": "c67f204d-96c2-4b34-8e23-5734d1ef454b",
   "metadata": {},
   "outputs": [],
   "source": [
    "fig, axes = plt.subplots(len(image_files), 2, figsize=(10, len(image_files)*5))\n",
    "\n",
    "for idx, file in enumerate(image_files):\n",
    "    image = cv2.imread(file)\n",
    "    \n",
    "    if image is not None:\n",
    "        edges = cv2.Canny(image, 100, 200)\n",
    "        \n",
    "        image_rgb = cv2.cvtColor(image, cv2.COLOR_BGR2RGB)\n",
    "        edges_rgb = cv2.cvtColor(edges, cv2.COLOR_BGR2RGB)\n",
    "        \n",
    "        axes[idx, 0].imshow(image_rgb)\n",
    "        axes[idx, 0].axis('off')\n",
    "        axes[idx, 0].set_title('Original')\n",
    "        \n",
    "        axes[idx, 1].imshow(edges_rgb, cmap='gray')\n",
    "        axes[idx, 1].axis('off')\n",
    "        axes[idx, 1].set_title('Canny Edges')\n",
    "\n",
    "plt.tight_layout()\n",
    "plt.show()"
   ]
  },
  {
   "cell_type": "code",
   "execution_count": null,
   "id": "77aadf33-a6ae-4b01-9a76-87e9ce6e6245",
   "metadata": {},
   "outputs": [],
   "source": [
    "fig, axes = plt.subplots(len(image_files), 2, figsize=(10, len(image_files)*5))\n",
    "\n",
    "kernel_sharpening = np.array([[-1, -1, -1],\n",
    "                              [-1, 9, -1],\n",
    "                              [-1, -1, -1]])\n",
    "\n",
    "kernel_gaussian = np.array([[1, 2, 1],\n",
    "                            [2, 4, 2],\n",
    "                            [1, 2, 1]])\n",
    "\n",
    "sobel_kernel = np.array([[-1, 0, 1],\n",
    "                         [-2, 0, 2],\n",
    "                         [-1, 0, 1]])\n",
    "\n",
    "for idx, file in enumerate(image_files):\n",
    "    image = cv2.imread(file)\n",
    "    \n",
    "    if image is not None:\n",
    "        gray_image = cv2.cvtColor(image, cv2.COLOR_BGR2GRAY)\n",
    "\n",
    "        equalized_image = cv2.equalizeHist(gray_image)\n",
    "        \n",
    "        image_rgb = cv2.cvtColor(image, cv2.COLOR_BGR2RGB)\n",
    "        equalized_image_rgb = cv2.cvtColor(equalized_image, cv2.COLOR_GRAY2RGB)\n",
    "        \n",
    "        axes[idx, 0].imshow(image_rgb)\n",
    "        axes[idx, 0].axis('off')\n",
    "        axes[idx, 0].set_title('Original')\n",
    "        \n",
    "        axes[idx, 1].imshow(equalized_image_rgb)\n",
    "        axes[idx, 1].axis('off')\n",
    "        axes[idx, 1].set_title('Histogram Equalization')\n",
    "\n",
    "plt.tight_layout()\n",
    "plt.show()"
   ]
  }
 ],
 "metadata": {
  "kernelspec": {
   "display_name": "Python 3 (ipykernel)",
   "language": "python",
   "name": "python3"
  },
  "language_info": {
   "codemirror_mode": {
    "name": "ipython",
    "version": 3
   },
   "file_extension": ".py",
   "mimetype": "text/x-python",
   "name": "python",
   "nbconvert_exporter": "python",
   "pygments_lexer": "ipython3",
   "version": "3.10.14"
  }
 },
 "nbformat": 4,
 "nbformat_minor": 5
}
